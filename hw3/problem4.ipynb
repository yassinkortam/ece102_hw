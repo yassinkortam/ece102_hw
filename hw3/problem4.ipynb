{
 "cells": [
  {
   "cell_type": "code",
   "execution_count": 2,
   "metadata": {},
   "outputs": [],
   "source": [
    "import numpy as np\n",
    "import matplotlib.pyplot as plt\n",
    "import cmath\n",
    "from scipy import signal\n",
    "from IPython import display\n",
    "from sklearn.metrics import mean_squared_error\n",
    "\n",
    "#Signal constants\n",
    "m = 0\n",
    "T = 2\n",
    "\n",
    "#Plotting constants\n",
    "TRANGE = 2\n",
    "R = 1000"
   ]
  },
  {
   "cell_type": "code",
   "execution_count": 3,
   "metadata": {},
   "outputs": [],
   "source": [
    "def r(t):\n",
    "    if t < 0:\n",
    "        return 0\n",
    "    else:\n",
    "        return t\n",
    "\n",
    "def x(t):\n",
    "    return r(t) - 2*r(t-1) + r(t-2)\n",
    "\n",
    "#Fourier coeffecients function\n",
    "def ak(k):\n",
    "    if k == 0:\n",
    "        return 0.5\n",
    "    else:\n",
    "        return ((-1)**(k) -1)/((cmath.pi**2) * k**2) \n",
    "        \n",
    "#Fourier series function\n",
    "def xm(t):\n",
    "    sum = 0\n",
    "    for i in range(2*m + 1):\n",
    "        k = i - m\n",
    "        sum += ak(k)*cmath.exp((2j*cmath.pi*k*t)/T)\n",
    "    return sum \n",
    "\n",
    "#***************************************************\n",
    "\n",
    "#makes time domain array from function\n",
    "def to_array(f):\n",
    "    x = np.array([])\n",
    "    y = np.array([])\n",
    "    for i in range(int(TRANGE*R + 1)):\n",
    "        t = i/R \n",
    "        y = np.append(y, (f(t)))\n",
    "        x = np.append(x, t)\n",
    "    return x, y"
   ]
  },
  {
   "cell_type": "code",
   "execution_count": 4,
   "metadata": {},
   "outputs": [
    {
     "data": {
      "image/png": "[encoded data removed]",
      "text/plain": [
       "<Figure size 432x288 with 1 Axes>"
      ]
     },
     "metadata": {},
     "output_type": "display_data"
    },
    {
     "name": "stdout",
     "output_type": "stream",
     "text": [
      "N = 1\n",
      "Error = 0.003628162993403082\n"
     ]
    },
    {
     "data": {
      "text/plain": [
       "<Figure size 432x288 with 0 Axes>"
      ]
     },
     "metadata": {},
     "output_type": "display_data"
    }
   ],
   "source": [
    "pp = 1\n",
    "plt.figure()\n",
    "while pp > 0.01:\n",
    "    m += 1\n",
    "    t, y = to_array(xm)\n",
    "    plt.plot(t, y)\n",
    "    t, y2 = to_array(x)\n",
    "    plt.plot(t, y2)\n",
    "\n",
    "    mse = mean_squared_error(y.real, y2)\n",
    "    pp = 3*mse\n",
    "\n",
    "    display.clear_output(wait=True)\n",
    "    display.display(plt.gcf())\n",
    "    plt.clf()\n",
    "print(\"N = {}\".format(m))\n",
    "print(\"Error = {}\".format(pp))"
   ]
  }
 ],
 "metadata": {
  "kernelspec": {
   "display_name": "Python 3 (ipykernel)",
   "language": "python",
   "name": "python3"
  },
  "language_info": {
   "codemirror_mode": {
    "name": "ipython",
    "version": 3
   },
   "file_extension": ".py",
   "mimetype": "text/x-python",
   "name": "python",
   "nbconvert_exporter": "python",
   "pygments_lexer": "ipython3",
   "version": "3.9.2"
  },
  "vscode": {
   "interpreter": {
    "hash": "aee8b7b246df8f9039afb4144a1f6fd8d2ca17a180786b69acc140d282b71a49"
   }
  }
 },
 "nbformat": 4,
 "nbformat_minor": 2
}
