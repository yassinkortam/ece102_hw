{
 "cells": [
  {
   "cell_type": "code",
   "execution_count": null,
   "metadata": {},
   "outputs": [
    {
     "ename": "",
     "evalue": "",
     "output_type": "error",
     "traceback": [
      "\u001b[1;31mFailed to start the Kernel. \n",
      "The 'python392jvsc74a57bd0aee8b7b246df8f9039afb4144a1f6fd8d2ca17a180786b69acc140d282b71a49' kernel is not available. Please pick another suitable kernel instead, or install that kernel. \n",
      "View Jupyter <a href='command:jupyter.viewOutput'>log</a> for further details."
     ]
    }
   ],
   "source": [
    "clear all;\n",
    "fs=44100;\n",
    "nbits=8;\n",
    "nch=1;\n",
    "myRecObj = audiorecorder(fs, nbits, nch);\n",
    "\n",
    "disp('Start speaking. ');\n",
    "recordblocking(myRecObj, 40);\n",
    "disp('End of recording. ');\n",
    "\n",
    "x=getaudiodata(myRecObj);\n",
    "\n",
    "X=fft(x);\n",
    "n=length(X);\n",
    "\n",
    "Xshift = fftshift(X);\n",
    "fshift = (-n/2:n/2-1)*(fs/n);\n",
    "powershift = abs(Xshift).^2/n;\n",
    "plot(fshift,powershift);\n",
    "xlabel('Frequency (Hz)');\n",
    "xlabel('Power Spectrum');\n",
    "grid on;\n"
   ]
  }
 ],
 "metadata": {
  "kernelspec": {
   "display_name": "Matlab (Connection)",
   "language": "matlab",
   "name": "matlab_connect"
  },
  "language_info": {
   "codemirror_mode": {
    "name": "ipython",
    "version": 3
   },
   "file_extension": ".py",
   "mimetype": "text/x-python",
   "name": "matlab",
   "nbconvert_exporter": "python",
   "pygments_lexer": "ipython3",
   "version": "3.9.2"
  },
  "orig_nbformat": 4,
  "vscode": {
   "interpreter": {
    "hash": "f57b2c1b34c765d8cfe5ecd95bf8bfcc93e9770866ccda479f013bf042f6c787"
   }
  }
 },
 "nbformat": 4,
 "nbformat_minor": 2
}
